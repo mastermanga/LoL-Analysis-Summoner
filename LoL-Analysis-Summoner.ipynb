{
 "cells": [
  {
   "cell_type": "code",
   "execution_count": 6,
   "metadata": {},
   "outputs": [],
   "source": [
    "from riotwatcher import LolWatcher, ApiError\n",
    "import pandas as pd"
   ]
  },
  {
   "cell_type": "code",
   "execution_count": 19,
   "metadata": {},
   "outputs": [],
   "source": [
    "def player_info(me):\n",
    "    print(\"Your player name : \" , me[\"name\"])\n",
    "    print(\"Your player level : \", me[\"summonerLevel\"])"
   ]
  },
  {
   "cell_type": "code",
   "execution_count": 20,
   "metadata": {},
   "outputs": [],
   "source": [
    "def ranked_info(my_ranked_stats):\n",
    "    \n",
    "    if my_ranked_stats[0][\"queueType\"] == 'RANKED_SOLO_5x5':\n",
    "        print(\"SoloQ: \", my_ranked_stats[0][\"tier\"], \n",
    "              my_ranked_stats[0][\"rank\"],my_ranked_stats[0][\"leaguePoints\"], \"LP\")\n",
    "        winrate(my_ranked_stats[0])\n",
    "        print(\"Flex : \", my_ranked_stats[1][\"tier\"], \n",
    "              my_ranked_stats[1][\"rank\"],my_ranked_stats[1][\"leaguePoints\"], \"LP\")\n",
    "        winrate(my_ranked_stats[1])\n",
    "    else :\n",
    "        print(\"SoloQ: \", my_ranked_stats[1][\"tier\"], \n",
    "              my_ranked_stats[1][\"rank\"],my_ranked_stats[1][\"leaguePoints\"], \"LP\")\n",
    "        winrate(my_ranked_stats[1])\n",
    "        print(\"Flex : \", my_ranked_stats[0][\"tier\"], \n",
    "              my_ranked_stats[0][\"rank\"],my_ranked_stats[0][\"leaguePoints\"], \"LP\")\n",
    "        winrate(my_ranked_stats[0])        "
   ]
  },
  {
   "cell_type": "code",
   "execution_count": 21,
   "metadata": {},
   "outputs": [],
   "source": [
    "def winrate(my_ranked_stats):\n",
    "    game = my_ranked_stats[\"wins\"] + my_ranked_stats[\"losses\"]\n",
    "    winrate = my_ranked_stats[\"wins\"]/game\n",
    "    percentage = \"{:.2%}\".format(winrate)\n",
    "    \n",
    "    print(\"Number of games : \", game,\", winrate : \", percentage)"
   ]
  },
  {
   "cell_type": "code",
   "execution_count": 1,
   "metadata": {},
   "outputs": [],
   "source": [
    "def get_champions_name(_id):\n",
    "    \"\"\"\n",
    "    this functions takes an _id and returns the associate champions name\n",
    "    :param _id: any integer from 1 to 555. if there is a champion, it will return the name.\n",
    "    :return: champions name\n",
    "    \"\"\"\n",
    "    all_champion_id = {\n",
    "        1: \"Annie\",2: \"Olaf\",3: \"Galio\",4: \"TwistedFate\",5: \"XinZhao\",6: \"Urgot\",7: \"LeBlanc\",8: \"Vladimir\",9: \"Fiddlesticks\",\n",
    "        10: \"Kayle\",11: \"Master Yi\",12: \"Alistar\",13: \"Ryze\",14: \"Sion\",15: \"Sivir\",16: \"Soraka\",17: \"Teemo\",18: \"Tristana\",19: \"Warwick\",\n",
    "        20: \"Nunu\",21: \"MissFortune\",22: \"Ashe\",23: \"Tryndamere\",24: \"Jax\",25: \"Morgana\",26: \"Zilean\",27: \"Singed\",28: \"Evelynn\",\n",
    "        29: \"Twitch\",30: \"Karthus\",31: \"Cho'Gath\",32: \"Amumu\",33: \"Rammus\",34: \"Anivia\",35: \"Shaco\",36: \"Dr.Mundo\",37: \"Sona\",\n",
    "        38: \"Kassadin\",39: \"Irelia\",40: \"Janna\",41: \"Gangplank\",42: \"Corki\",43: \"Karma\",44: \"Taric\",45: \"Veigar\",48: \"Trundle\",\n",
    "        50: \"Swain\",51: \"Caitlyn\",53: \"Blitzcrank\",54: \"Malphite\",55: \"Katarina\",56: \"Nocturne\",57: \"Maokai\",58: \"Renekton\",\n",
    "        59: \"JarvanIV\",60: \"Elise\",61: \"Orianna\",62: \"Wukong\", 63: \"Brand\",64: \"LeeSin\",67: \"Vayne\",68: \"Rumble\",\n",
    "        69: \"Cassiopeia\",72: \"Skarner\",74: \"Heimerdinger\",75: \"Nasus\",76: \"Nidalee\",77: \"Udyr\",78: \"Poppy\",79: \"Gragas\",\n",
    "        80: \"Pantheon\",81: \"Ezreal\",82: \"Mordekaiser\",83: \"Yorick\",84: \"Akali\",85: \"Kennen\",86: \"Garen\",89: \"Leona\",\n",
    "        90: \"Malzahar\",91: \"Talon\",92: \"Riven\",96: \"Kog'Maw\",98: \"Shen\",99: \"Lux\",101: \"Xerath\",102: \"Shyvana\",103: \"Ahri\",\n",
    "        104: \"Graves\",105: \"Fizz\",106: \"Volibear\",107: \"Rengar\",110: \"Varus\",111: \"Nautilus\",112: \"Viktor\",113: \"Sejuani\",\n",
    "        114: \"Fiora\",115: \"Ziggs\",117: \"Lulu\",119: \"Draven\",120: \"Hecarim\",121: \"Kha'Zix\",122: \"Darius\",126: \"Jayce\",\n",
    "        127: \"Lissandra\",131: \"Diana\",133: \"Quinn\",134: \"Syndra\",136: \"AurelionSol\",141: \"Kayn\",142: \"Zoe\",143: \"Zyra\",\n",
    "        145: \"Kai'sa\",147: \"Seraphine\",150: \"Gnar\",154: \"Zac\",157: \"Yasuo\",161: \"Vel'Koz\",163: \"Taliyah\",164: \"Camille\",201: \"Braum\",\n",
    "        202: \"Jhin\",203: \"Kindred\",222: \"Jinx\",223: \"TahmKench\",235: \"Senna\",236: \"Lucian\",238: \"Zed\",240: \"Kled\",\n",
    "        245: \"Ekko\",246: \"Qiyana\",254: \"Vi\",266: \"Aatrox\",267: \"Nami\",268: \"Azir\",350: \"Yuumi\",360: \"Samira\",412: \"Thresh\",\n",
    "        420: \"Illaoi\",421: \"Rek'Sai\",427: \"Ivern\",429: \"Kalista\",432: \"Bard\",497: \"Rakan\",498: \"Xayah\",516: \"Ornn\",\n",
    "        517: \"Sylas\",523: \"Aphelios\",518: \"Neeko\",526: \"Rell\",555: \"Pyke\", 777: \"Yone\",875: \"Sett\",876: \"Lillia\",\n",
    "\n",
    "\n",
    "    }\n",
    "    return all_champion_id.get(_id)\n",
    "\n",
    "#Here to manually get new champ and add it to the function\n",
    "\n",
    "#import json\n",
    "\n",
    "#with open('champion.json', encoding=\"utf8\") as file:\n",
    "#    long_description = file.read()    \n",
    "    \n",
    "#df = pd.read_json(long_description)\n",
    "#print(df[\"data\"][\"Rell\"])"
   ]
  },
  {
   "cell_type": "code",
   "execution_count": 2,
   "metadata": {},
   "outputs": [],
   "source": [
    "def mastery_info(Pid,region):\n",
    "\n",
    "    me = watcher.champion_mastery.by_summoner(encrypted_summoner_id = Pid, region = region)\n",
    "    print(\"Best masteries :\")\n",
    "    champ_1 = me[0][\"championPoints\"]/1000\n",
    "    champ_1 = \"{:.0f}\".format(champ_1)\n",
    "    print(get_champions_name(me[0][\"championId\"]),\"points : \",champ_1, \"k\")\n",
    "    champ_2= me[1][\"championPoints\"]/1000\n",
    "    champ_2 = \"{:.0f}\".format(champ_2)\n",
    "    print(get_champions_name(me[1][\"championId\"]),\"points : \",champ_2, \"k\")\n",
    "    champ_3 = me[2][\"championPoints\"]/1000\n",
    "    champ_3 = \"{:.0f}\".format(champ_3)\n",
    "    print(get_champions_name(me[2][\"championId\"]),\"points : \",champ_3, \"k\")\n",
    "    champ_4 = me[3][\"championPoints\"]/1000\n",
    "    champ_4 = \"{:.0f}\".format(champ_4)\n",
    "    print(get_champions_name(me[3][\"championId\"]),\"points : \",champ_4, \"k\")\n",
    "    champ_5 = me[4][\"championPoints\"]/1000\n",
    "    champ_5 = \"{:.0f}\".format(champ_5)\n",
    "    print(get_champions_name(me[4][\"championId\"]),\"points : \",champ_5, \"k\")\n",
    "    champ_6 = me[5][\"championPoints\"]/1000\n",
    "    champ_6 = \"{:.0f}\".format(champ_6)\n",
    "    print(get_champions_name(me[5][\"championId\"]),\"points : \",champ_6, \"k\")\n",
    "    champ_7 = me[6][\"championPoints\"]/1000\n",
    "    champ_7 = \"{:.0f}\".format(champ_7)\n",
    "    print(get_champions_name(me[6][\"championId\"]),\"points : \",champ_7, \"k\")\n",
    "    champ_8 = me[7][\"championPoints\"]/1000\n",
    "    champ_8 = \"{:.0f}\".format(champ_8)\n",
    "    print(get_champions_name(me[7][\"championId\"]),\"points : \",champ_8, \"k\")\n",
    "    champ_9 = me[8][\"championPoints\"]/1000\n",
    "    champ_9 = \"{:.0f}\".format(champ_9)\n",
    "    print(get_champions_name(me[8][\"championId\"]),\"points : \",champ_9, \"k\")\n",
    "    champ_10 = me[9][\"championPoints\"]/1000\n",
    "    champ_10 = \"{:.0f}\".format(champ_10)\n",
    "    print(get_champions_name(me[9][\"championId\"]),\"points : \",champ_10, \"k\")"
   ]
  },
  {
   "cell_type": "code",
   "execution_count": 3,
   "metadata": {},
   "outputs": [],
   "source": [
    "def main_role(history):\n",
    "    liste = []\n",
    "    for match in history['matches']:\n",
    "        if match[\"queue\"] == 420 or match[\"queue\"] == 440 or match[\"queue\"] == 700 : \n",
    "            liste.append(match)\n",
    "    sup = 0\n",
    "    adc = 0\n",
    "    mid = 0\n",
    "    jgl = 0\n",
    "    top = 0\n",
    "    count = 0\n",
    "    for i in liste:\n",
    "        count = count + 1\n",
    "        if i[\"role\"] == \"DUO_SUPPORT\" and i[\"lane\"] == \"BOTTOM\" :\n",
    "            sup = sup + 1 \n",
    "        if i[\"role\"] == \"DUO_CARRY\" and i[\"lane\"] == \"BOTTOM\" :\n",
    "            adc = adc + 1 \n",
    "        if i[\"role\"] == \"NONE\" and i[\"lane\"] == \"JUNGLE\" :\n",
    "            jgl = jgl + 1 \n",
    "        if i[\"role\"] == \"SOLO\" and i[\"lane\"] == \"TOP\" :\n",
    "            top = top + 1 \n",
    "        if i[\"role\"] == \"SOLO\" and i[\"lane\"] == \"MID\" :\n",
    "            mid = mid + 1 \n",
    "    df = [sup, adc, mid, jgl, top]\n",
    "    df2 = [\"sup\", \"adc\", \"mid\", \"jgl\", \"top\"]\n",
    "\n",
    "    max_value = max(df)\n",
    "    percent = (max_value/count)\n",
    "    percentage = \"{:.2%}\".format(percent)\n",
    "    print(\"Main role :\", df2[df.index(max_value)],\"at :\", percentage)\n",
    "    \n",
    "    max_value_2 = max(df, key = lambda x: min(df)-1 if (x == max_value) else x)\n",
    "    percent_2 = (max_value_2/count)\n",
    "    percentage_2 = \"{:.2%}\".format(percent_2)\n",
    "    print(\"Main role :\", df2[df.index(max_value_2)],\"at :\", percentage_2)"
   ]
  },
  {
   "cell_type": "code",
   "execution_count": 4,
   "metadata": {},
   "outputs": [],
   "source": [
    "def main(player, region):\n",
    "    me = watcher.summoner.by_name(region, player)\n",
    "    my_ranked_stats = watcher.league.by_summoner(region, me['id'])\n",
    "    history = watcher.match.matchlist_by_account(encrypted_account_id = me['accountId'], region = region)\n",
    "    player_info(me)\n",
    "    ranked_info(my_ranked_stats)\n",
    "    mastery_info(me['id'],region)\n",
    "    main_role(history)"
   ]
  },
  {
   "cell_type": "code",
   "execution_count": 5,
   "metadata": {},
   "outputs": [
    {
     "ename": "NameError",
     "evalue": "name 'LolWatcher' is not defined",
     "output_type": "error",
     "traceback": [
      "\u001b[1;31m---------------------------------------------------------------------------\u001b[0m",
      "\u001b[1;31mNameError\u001b[0m                                 Traceback (most recent call last)",
      "\u001b[1;32m<ipython-input-5-ccd9b5308070>\u001b[0m in \u001b[0;36m<module>\u001b[1;34m\u001b[0m\n\u001b[0;32m      4\u001b[0m \u001b[1;33m\u001b[0m\u001b[0m\n\u001b[0;32m      5\u001b[0m \u001b[0mapi_key\u001b[0m \u001b[1;33m=\u001b[0m \u001b[1;34m'RGAPI-191d9825-2e47-4064-b0cb-4932fb5687df'\u001b[0m\u001b[1;33m\u001b[0m\u001b[1;33m\u001b[0m\u001b[0m\n\u001b[1;32m----> 6\u001b[1;33m \u001b[0mwatcher\u001b[0m \u001b[1;33m=\u001b[0m \u001b[0mLolWatcher\u001b[0m\u001b[1;33m(\u001b[0m\u001b[0mapi_key\u001b[0m\u001b[1;33m)\u001b[0m\u001b[1;33m\u001b[0m\u001b[1;33m\u001b[0m\u001b[0m\n\u001b[0m\u001b[0;32m      7\u001b[0m \u001b[1;33m\u001b[0m\u001b[0m\n\u001b[0;32m      8\u001b[0m \u001b[0mmain\u001b[0m\u001b[1;33m(\u001b[0m\u001b[0mplayer\u001b[0m\u001b[1;33m,\u001b[0m \u001b[0mregion\u001b[0m\u001b[1;33m)\u001b[0m\u001b[1;33m\u001b[0m\u001b[1;33m\u001b[0m\u001b[0m\n",
      "\u001b[1;31mNameError\u001b[0m: name 'LolWatcher' is not defined"
     ]
    }
   ],
   "source": [
    "player = 'Player Name'\n",
    "region = 'Region Name'\n",
    "\n",
    "\n",
    "api_key = 'Riot-Api-key'\n",
    "watcher = LolWatcher(api_key)\n",
    "\n",
    "main(player, region)"
   ]
  },
  {
   "cell_type": "code",
   "execution_count": null,
   "metadata": {},
   "outputs": [],
   "source": []
  },
  {
   "cell_type": "code",
   "execution_count": null,
   "metadata": {},
   "outputs": [],
   "source": []
  },
  {
   "cell_type": "code",
   "execution_count": null,
   "metadata": {},
   "outputs": [],
   "source": []
  },
  {
   "cell_type": "code",
   "execution_count": null,
   "metadata": {},
   "outputs": [],
   "source": []
  }
 ],
 "metadata": {
  "kernelspec": {
   "display_name": "Python 3",
   "language": "python",
   "name": "python3"
  },
  "language_info": {
   "codemirror_mode": {
    "name": "ipython",
    "version": 3
   },
   "file_extension": ".py",
   "mimetype": "text/x-python",
   "name": "python",
   "nbconvert_exporter": "python",
   "pygments_lexer": "ipython3",
   "version": "3.7.9"
  }
 },
 "nbformat": 4,
 "nbformat_minor": 4
}
